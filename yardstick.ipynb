{
 "cells": [
  {
   "cell_type": "code",
   "execution_count": 23,
   "metadata": {},
   "outputs": [],
   "source": [
    "import os\n",
    "import streamlit as st\n",
    "from langchain_pinecone import PineconeVectorStore\n",
    "from langchain.schema import Document\n",
    "from langchain_text_splitters import CharacterTextSplitter\n",
    "from langchain_openai import OpenAI, OpenAIEmbeddings\n",
    "os.environ['OPENAI_API_KEY'] = 'sk-proj-dRYkWaTX5Fs7hXoSNAhxT3BlbkFJt3f6hhcRi3TJNozJQtg1'\n",
    "os.environ['PINECONE_API_KEY'] = 'pcsk_446r1i_4qs48CqwVrASr8RVxz7h8uUg1rT22Brh62GwKqinv8ZgcuzJHCrEoqxC85WFJfc'"
   ]
  },
  {
   "cell_type": "code",
   "execution_count": 6,
   "metadata": {},
   "outputs": [
    {
     "name": "stderr",
     "output_type": "stream",
     "text": [
      "C:\\Users\\VAIBHAV SHARMA\\AppData\\Local\\Temp\\ipykernel_25732\\1047750227.py:2: LangChainDeprecationWarning: The class `OpenAIEmbeddings` was deprecated in LangChain 0.0.9 and will be removed in 1.0. An updated version of the class exists in the :class:`~langchain-openai package and should be used instead. To use it run `pip install -U :class:`~langchain-openai` and import as `from :class:`~langchain_openai import OpenAIEmbeddings``.\n",
      "  embeddings = OpenAIEmbeddings()\n"
     ]
    }
   ],
   "source": [
    "index_name = \"rag-index\"\n",
    "embeddings = OpenAIEmbeddings()\n",
    "\n",
    "with open(\"yardstick.txt\", \"r\", encoding=\"utf-8\") as f:\n",
    "    file_content = f.read()\n",
    "\n",
    "documents = [Document(page_content=file_content)]\n",
    "text_splitter = CharacterTextSplitter(chunk_size=500, chunk_overlap=20)\n",
    "docs = text_splitter.split_documents(documents)"
   ]
  },
  {
   "cell_type": "code",
   "execution_count": 15,
   "metadata": {},
   "outputs": [
    {
     "data": {
      "text/plain": [
       "['a5bee862-8b08-4c3b-b54d-d00b99e8c673',\n",
       " '3a714357-5091-40c0-8772-473906c5d762',\n",
       " 'd392f2a4-76bc-49ff-82a2-3757c573ccaf',\n",
       " 'b126176c-a113-41ec-90e8-79e28fbde049',\n",
       " '04a5950a-0ec5-4e5d-905a-a4eba5e4a4b5',\n",
       " 'c99dd821-f7c9-4ae9-b937-445bc8650bc0',\n",
       " 'dabd2bd6-b36b-47b7-ac67-c07e3e744546']"
      ]
     },
     "execution_count": 15,
     "metadata": {},
     "output_type": "execute_result"
    }
   ],
   "source": [
    "vectorstore = PineconeVectorStore(index_name=index_name, embedding=embeddings)\n",
    "vectorstore.add_documents(docs)"
   ]
  },
  {
   "cell_type": "code",
   "execution_count": 16,
   "metadata": {},
   "outputs": [],
   "source": [
    "query = \"which products do you sell?\"\n",
    "results = vectorstore.similarity_search(query,k=1)\n",
    "results = results[0].page_content"
   ]
  },
  {
   "cell_type": "code",
   "execution_count": 24,
   "metadata": {},
   "outputs": [
    {
     "name": "stdout",
     "output_type": "stream",
     "text": [
      "We offer a wide variety of products on our platform, including international brands that are sourced from trusted sellers. Our products are 100% genuine, ensuring that you receive high-quality items every time you make a purchase. You can easily find your desired brands by using the filters on the product page. We are constantly expanding our product range to provide our customers with the best shopping experience possible.\n"
     ]
    }
   ],
   "source": [
    "llm = OpenAI()\n",
    "\n",
    "\n",
    "prompt = PromptTemplate.from_template(\"This is {query} and this is answer {results} and answer should be in proper way.\\n\")\n",
    "\n",
    "chain = prompt | llm\n",
    "\n",
    "ai_answer = chain.invoke({\n",
    "    'query' : query,\n",
    "    'results' : results\n",
    "})\n",
    "\n",
    "answer = ai_answer.replace('\\n','').strip()\n",
    "print(answer)"
   ]
  },
  {
   "cell_type": "code",
   "execution_count": null,
   "metadata": {},
   "outputs": [],
   "source": []
  }
 ],
 "metadata": {
  "kernelspec": {
   "display_name": "Python 3",
   "language": "python",
   "name": "python3"
  },
  "language_info": {
   "codemirror_mode": {
    "name": "ipython",
    "version": 3
   },
   "file_extension": ".py",
   "mimetype": "text/x-python",
   "name": "python",
   "nbconvert_exporter": "python",
   "pygments_lexer": "ipython3",
   "version": "3.10.5"
  }
 },
 "nbformat": 4,
 "nbformat_minor": 2
}
